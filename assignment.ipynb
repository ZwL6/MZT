{
  "nbformat": 4,
  "nbformat_minor": 0,
  "metadata": {
    "colab": {
      "provenance": [],
      "authorship_tag": "ABX9TyNYZenoaBbjuQKPcfVJnc9T",
      "include_colab_link": true
    },
    "kernelspec": {
      "name": "python3",
      "display_name": "Python 3"
    },
    "language_info": {
      "name": "python"
    }
  },
  "cells": [
    {
      "cell_type": "markdown",
      "metadata": {
        "id": "view-in-github",
        "colab_type": "text"
      },
      "source": [
        "<a href=\"https://colab.research.google.com/github/ZwL6/MZT/blob/main/assignment.ipynb\" target=\"_parent\"><img src=\"https://colab.research.google.com/assets/colab-badge.svg\" alt=\"Open In Colab\"/></a>"
      ]
    },
    {
      "cell_type": "code",
      "execution_count": 1,
      "metadata": {
        "colab": {
          "base_uri": "https://localhost:8080/"
        },
        "id": "7vgGYzsiFZyE",
        "outputId": "c6bf577d-9fd9-4e0f-9a9a-136e963f9068"
      },
      "outputs": [
        {
          "output_type": "stream",
          "name": "stdout",
          "text": [
            "Requirement already satisfied: pyspark in /usr/local/lib/python3.10/dist-packages (3.4.1)\n",
            "Requirement already satisfied: py4j==0.10.9.7 in /usr/local/lib/python3.10/dist-packages (from pyspark) (0.10.9.7)\n",
            "openjdk-8-jdk-headless is already the newest version (8u372-ga~us1-0ubuntu1~20.04).\n",
            "0 upgraded, 0 newly installed, 0 to remove and 13 not upgraded.\n"
          ]
        }
      ],
      "source": [
        "!pip install pyspark\n",
        "!pip install -U -q PyDrive\n",
        "!apt install openjdk-8-jdk-headless -qq\n",
        "import os\n",
        "os.environ[\"JAVA_HOME\"] = \"/usr/lib/jvm/java-8-openjdk-amd64\""
      ]
    },
    {
      "cell_type": "code",
      "source": [
        "import pyspark\n",
        "from pyspark import SparkContext, SparkConf\n",
        "from pyspark.sql import SparkSession"
      ],
      "metadata": {
        "id": "nS9UM1hoFizF"
      },
      "execution_count": 2,
      "outputs": []
    },
    {
      "cell_type": "code",
      "source": [
        "# Get cities file\n",
        "!wget https://raw.githubusercontent.com/ZwL6/MZT/main/cities.json\n",
        "\n"
      ],
      "metadata": {
        "colab": {
          "base_uri": "https://localhost:8080/"
        },
        "id": "AcIZ1cyMJPs0",
        "outputId": "e6ce027e-a288-496c-e66e-1c0bdd1a4563"
      },
      "execution_count": 3,
      "outputs": [
        {
          "output_type": "stream",
          "name": "stdout",
          "text": [
            "--2023-06-28 18:13:27--  https://raw.githubusercontent.com/ZwL6/MZT/main/cities.json\n",
            "Resolving raw.githubusercontent.com (raw.githubusercontent.com)... 185.199.108.133, 185.199.109.133, 185.199.110.133, ...\n",
            "Connecting to raw.githubusercontent.com (raw.githubusercontent.com)|185.199.108.133|:443... connected.\n",
            "HTTP request sent, awaiting response... 200 OK\n",
            "Length: 15829 (15K) [text/plain]\n",
            "Saving to: ‘cities.json.1’\n",
            "\n",
            "cities.json.1       100%[===================>]  15.46K  --.-KB/s    in 0s      \n",
            "\n",
            "2023-06-28 18:13:27 (56.7 MB/s) - ‘cities.json.1’ saved [15829/15829]\n",
            "\n"
          ]
        }
      ]
    },
    {
      "cell_type": "code",
      "source": [
        "#making standerd route\n",
        "import json\n",
        "import random\n",
        "\n",
        "# Set seed\n",
        "random.seed(1)\n",
        "with open('cities.json', 'r') as file:\n",
        "    data = json.load(file)\n",
        "\n",
        "cities = [d['city'] for d in data]\n",
        "\n",
        "merchandise = ['apple', 'tomatoes', 'butter', 'water', 'milk', 'pens', 'honey']\n",
        "\n",
        "routes = []\n",
        "\n",
        "for i in range(1000):\n",
        "    route = {}\n",
        "    route['id'] = i\n",
        "\n",
        "    # Generate a list of non-repeating random cities\n",
        "    city_sample = random.sample(cities, 3)\n",
        "\n",
        "    # Randomly generate the number of merchandise\n",
        "    num_merchandise = random.randint(1, 10)\n",
        "\n",
        "    # Randomly select merchandise types\n",
        "    merchandise_sample = random.sample(merchandise, random.randint(3, 5))\n",
        "\n",
        "    # Build the route dictionary format\n",
        "    route['route'] = []\n",
        "    for j in range(2):\n",
        "        route_info = {}\n",
        "        route_info['from'] = city_sample[j]\n",
        "        route_info['to'] = city_sample[j+1]\n",
        "\n",
        "        # Generate random merchandise quantities for each route\n",
        "        merchandise_dict = {}\n",
        "        for m in merchandise_sample:\n",
        "            merchandise_dict[m] = random.randint(1, num_merchandise)\n",
        "\n",
        "        route_info['merchandise'] = merchandise_dict\n",
        "\n",
        "        route['route'].append(route_info)\n",
        "\n",
        "    routes.append(route)\n",
        "\n",
        "# Write the route list to a JSON file without corrupt records\n",
        "valid_routes = [r for r in routes if 'route' in r and len(r['route']) == 2]\n",
        "with open('routes.json', 'w') as file:\n",
        "    json.dump(routes, file, indent=4)\n"
      ],
      "metadata": {
        "id": "qj8cYyhKSHBl"
      },
      "execution_count": 4,
      "outputs": []
    },
    {
      "cell_type": "code",
      "source": [
        "# Download routes\n",
        "# from google.colab import files\n",
        "# files.download('routes.json')\n"
      ],
      "metadata": {
        "id": "uNZs3ShmVCAl"
      },
      "execution_count": 5,
      "outputs": []
    },
    {
      "cell_type": "code",
      "source": [
        "# making actual route\n",
        "\n",
        "import json\n",
        "import random\n",
        "import copy\n",
        "\n",
        "# Set seed\n",
        "random.seed(2)\n",
        "\n",
        "# Read the JSON file\n",
        "with open('cities.json', 'r') as file:\n",
        "    data = json.load(file)\n",
        "\n",
        "# Extract city names\n",
        "cities = [item['city'] for item in data]\n",
        "\n",
        "# Define merchandise types\n",
        "merchandise_types = ['apple', 'tomatoes', 'butter', 'water', 'milk', 'pens', 'honey']\n",
        "\n",
        "with open('routes.json', 'r') as file:\n",
        "    routes = json.load(file)\n",
        "\n",
        "act_routes = []\n",
        "\n",
        "for route in routes:\n",
        "    if len(route['route']) < 2:\n",
        "        continue  # Skip routes with less than two cities\n",
        "\n",
        "    for _ in range(10):\n",
        "        act_route = copy.deepcopy(route)  # Use deepcopy to avoid modifying the original route\n",
        "\n",
        "        # Randomly select a city to modify\n",
        "        modified_city_index = random.randint(0, len(act_route['route']) - 1)\n",
        "        modified_city = act_route['route'][modified_city_index]\n",
        "\n",
        "        # Randomly decide whether to modify city\n",
        "        if random.choice([True, False]):\n",
        "            # Modify the selected city\n",
        "            new_city = random.choice(cities)\n",
        "            modified_city['from'] = new_city\n",
        "\n",
        "            # If the modified city is the second city, modify it throughout the route\n",
        "            if modified_city_index == 1:\n",
        "                # Replace the modified city with a new city\n",
        "                act_route['route'][modified_city_index]['from'] = new_city\n",
        "                # Connect the cities before and after the replaced city\n",
        "                act_route['route'][modified_city_index - 1]['to'] = new_city\n",
        "                if modified_city_index + 1 < len(act_route['route']):\n",
        "                    act_route['route'][modified_city_index]['to'] = act_route['route'][modified_city_index + 1]['from']\n",
        "\n",
        "        # Randomly modify merchandise\n",
        "        for city_route in act_route['route']:\n",
        "            # Select random merchandise types\n",
        "            selected_merchandise = random.sample(merchandise_types, random.randint(1, len(merchandise_types)))\n",
        "            # Assign random quantities to selected merchandise\n",
        "            city_route['merchandise'] = {item: random.randint(1, 5) for item in selected_merchandise}\n",
        "\n",
        "        act_routes.append(act_route)\n",
        "\n",
        "# Write the act routes list to a new JSON file\n",
        "with open('act_routes.json', 'w') as file:\n",
        "    json.dump(act_routes, file, indent=4)"
      ],
      "metadata": {
        "id": "CGJurVstWvbv"
      },
      "execution_count": 6,
      "outputs": []
    },
    {
      "cell_type": "code",
      "source": [
        "# Download the actual routes\n",
        "# from google.colab import files\n",
        "# files.download('act_routes.json')"
      ],
      "metadata": {
        "id": "WOqkwzTkX1L5"
      },
      "execution_count": 7,
      "outputs": []
    },
    {
      "cell_type": "code",
      "source": [
        "!pip install python-Levenshtein\n",
        "import json\n",
        "from collections import defaultdict\n",
        "from Levenshtein import distance\n",
        "\n",
        "# Function for calculating route edit distance similarity\n",
        "def calculate_similarity(route1, route2):\n",
        "    lev_distance = distance(route1, route2)\n",
        "    max_length = max(len(route1), len(route2))\n",
        "    similarity = 1 - lev_distance / max_length\n",
        "    return similarity\n",
        "\n",
        "# Function for calculating marchandise edit distance similarity\n",
        "def calculate_merchandise_similarity(merch1, merch2):\n",
        "    lev_distance = distance(merch1, merch2)\n",
        "    max_length = max(len(merch1), len(merch2))\n",
        "    similarity = 1 - lev_distance / max_length\n",
        "    return similarity\n",
        "\n",
        "# open standard route file\n",
        "with open('routes.json', 'r') as file:\n",
        "    routes = json.load(file)\n",
        "\n",
        "# open actual route file\n",
        "with open('act_routes.json', 'r') as file:\n",
        "    act_routes = json.load(file)\n",
        "\n",
        "# Create a dictionary to store the most similar route for each actual route\n",
        "most_similar_routes = defaultdict(list)\n",
        "\n",
        "# Correct prediction counter\n",
        "correct_predictions = 0\n",
        "\n",
        "# Iterate through all actual routes\n",
        "for act_route in act_routes:\n",
        "    act_route_id = act_route['id']\n",
        "    act_route_str = ' '.join([f\"{route['from']} {route['to']}\" for route in act_route['route']])\n",
        "\n",
        "    similarities = []\n",
        "\n",
        "    # route similarity calculating\n",
        "    for standard_route in routes:\n",
        "        standard_route_id = standard_route['id']\n",
        "        standard_route_str = ' '.join([f\"{route['from']} {route['to']}\" for route in standard_route['route']])\n",
        "\n",
        "        route_similarity = calculate_similarity(standard_route_str, act_route_str)\n",
        "\n",
        "        # merchandise similarity calculating\n",
        "        merchandise_similarity = 0\n",
        "        for i, route in enumerate(act_route['route']):\n",
        "            act_merchandise = route['merchandise']\n",
        "            standard_merchandise = standard_route['route'][0]['merchandise']\n",
        "            merchandise_similarity += calculate_merchandise_similarity(str(standard_merchandise), str(act_merchandise))\n",
        "        merchandise_similarity /= len(standard_route['route'])\n",
        "\n",
        "        #total similarity calculating\n",
        "        total_similarity = (route_similarity + merchandise_similarity) / 2\n",
        "        similarities.append((standard_route_id, total_similarity))\n",
        "\n",
        "    # sort the max similarity\n",
        "    similarities = sorted(similarities, key=lambda x: x[1], reverse=True)\n",
        "\n",
        "    # Find the most similar route\n",
        "    max_similarity = similarities[0]\n",
        "\n",
        "    # Store the most similar route for this actual route\n",
        "    most_similar_routes[act_route_id].append(max_similarity)\n",
        "\n",
        "    # If the actual route id is the same as the predicted route id, increment the correct prediction counter\n",
        "    if act_route_id == max_similarity[0]:\n",
        "        correct_predictions += 1\n",
        "\n",
        "# Print the most similar routes for all actual routes\n",
        "# for act_route_id, max_similarities in most_similar_routes.items():\n",
        "#    for i, max_similarity in enumerate(max_similarities):\n",
        "#        print(f\"Max similarity for actual route {act_route_id}-{i+1}: Standard Route {max_similarity[0]} with similarity {max_similarity[1]}\")\n",
        "\n",
        "# Calculate and print the prediction accuracy\n",
        "accuracy = correct_predictions / len(act_routes)\n",
        "print(f\"Prediction accuracy: {accuracy * 100}%\")\n",
        "\n"
      ],
      "metadata": {
        "colab": {
          "base_uri": "https://localhost:8080/"
        },
        "id": "bdfcXzp1kVSA",
        "outputId": "0384911b-41d2-4bd8-8699-9089d8420e52"
      },
      "execution_count": 8,
      "outputs": [
        {
          "output_type": "stream",
          "name": "stdout",
          "text": [
            "Requirement already satisfied: python-Levenshtein in /usr/local/lib/python3.10/dist-packages (0.21.1)\n",
            "Requirement already satisfied: Levenshtein==0.21.1 in /usr/local/lib/python3.10/dist-packages (from python-Levenshtein) (0.21.1)\n",
            "Requirement already satisfied: rapidfuzz<4.0.0,>=2.3.0 in /usr/local/lib/python3.10/dist-packages (from Levenshtein==0.21.1->python-Levenshtein) (3.1.1)\n",
            "Prediction accuracy: 82.38%\n"
          ]
        }
      ]
    },
    {
      "cell_type": "code",
      "source": [
        "# Convert 'standard routes' file to Spark DataFrame\n",
        "import pandas as pd\n",
        "import json\n",
        "import warnings\n",
        "warnings.filterwarnings(\"ignore\")\n",
        "\n",
        "# Load data from JSON file\n",
        "with open('routes.json', 'r') as file:\n",
        "    data = json.load(file)\n",
        "\n",
        "# Initialize an empty DataFrame to store the processed data\n",
        "df = pd.DataFrame()\n",
        "\n",
        "# Iterate over each element\n",
        "for element in data:\n",
        "  id = element['id']\n",
        "\n",
        "# Iterate over routes\n",
        "  for route in element['route']:\n",
        "    from_city = route['from']\n",
        "    to_city = route['to']\n",
        "\n",
        "    # Iterate over merchandise\n",
        "    for merchandise, quantity in route['merchandise'].items():\n",
        "        # Append data to DataFrame\n",
        "        df = df.append({\n",
        "            'id': id,\n",
        "            'from': from_city,\n",
        "            'to': to_city,\n",
        "            'merchandise': merchandise,\n",
        "            'quantity': quantity\n",
        "        }, ignore_index=True)\n",
        "\n",
        "# Convert DataFrame to Spark DataFrame\n",
        "st_routes_df = spark.createDataFrame(df)"
      ],
      "metadata": {
        "id": "uoS_LRqHXCNl"
      },
      "execution_count": 20,
      "outputs": []
    },
    {
      "cell_type": "code",
      "source": [
        "from pyspark.sql.functions import expr\n",
        "\n",
        "# Create a new column that is the merchandise column value repeated quantity times\n",
        "str_df = st_routes_df.withColumn('merchandise_quantity', expr(\"repeat(merchandise, quantity)\"))\n",
        "str_df = str_df.drop('merchandise','quantity')\n",
        "\n",
        "str_df.show()"
      ],
      "metadata": {
        "colab": {
          "base_uri": "https://localhost:8080/"
        },
        "id": "Da0fAyHq0Q4J",
        "outputId": "7c840abc-ba24-479b-ca2c-f803e72e95a2"
      },
      "execution_count": 35,
      "outputs": [
        {
          "output_type": "stream",
          "name": "stdout",
          "text": [
            "+---+------------+------------+--------------------+\n",
            "| id|        from|          to|merchandise_quantity|\n",
            "+---+------------+------------+--------------------+\n",
            "|  0|     Helmond| Schoonhoven|waterwaterwaterwater|\n",
            "|  0|     Helmond| Schoonhoven|          honeyhoney|\n",
            "|  0|     Helmond| Schoonhoven|                pens|\n",
            "|  0| Schoonhoven|     Zaandam|waterwaterwaterwater|\n",
            "|  0| Schoonhoven|     Zaandam|               honey|\n",
            "|  0| Schoonhoven|     Zaandam|    penspenspenspens|\n",
            "|  1|      Nuenen|Klazienaveen|penspenspenspensp...|\n",
            "|  1|      Nuenen|Klazienaveen|            tomatoes|\n",
            "|  1|      Nuenen|Klazienaveen|                milk|\n",
            "|  1|      Nuenen|Klazienaveen|               apple|\n",
            "|  1|Klazienaveen|   The Hague|                pens|\n",
            "|  1|Klazienaveen|   The Hague|tomatoestomatoest...|\n",
            "|  1|Klazienaveen|   The Hague|    milkmilkmilkmilk|\n",
            "|  1|Klazienaveen|   The Hague|appleappleappleap...|\n",
            "|  2|    Enschede|   Harlingen|    milkmilkmilkmilk|\n",
            "|  2|    Enschede|   Harlingen|tomatoestomatoest...|\n",
            "|  2|    Enschede|   Harlingen|butterbutterbutte...|\n",
            "|  2|    Enschede|   Harlingen|                pens|\n",
            "|  2|   Harlingen|      Venray|milkmilkmilkmilkm...|\n",
            "|  2|   Harlingen|      Venray|    tomatoestomatoes|\n",
            "+---+------------+------------+--------------------+\n",
            "only showing top 20 rows\n",
            "\n"
          ]
        }
      ]
    },
    {
      "cell_type": "code",
      "source": [
        "# delete the duplicated routes\n",
        "stpaths = str_df.dropDuplicates([\"id\", \"from\", \"to\"])\n",
        "\n",
        "stpaths.show()"
      ],
      "metadata": {
        "colab": {
          "base_uri": "https://localhost:8080/"
        },
        "id": "KHfkTc_kHA5_",
        "outputId": "66874421-5daa-4b4d-ba83-baf67c48e94f"
      },
      "execution_count": 70,
      "outputs": [
        {
          "output_type": "stream",
          "name": "stdout",
          "text": [
            "+---+-------------+------------+--------------------+\n",
            "| id|         from|          to|merchandise_quantity|\n",
            "+---+-------------+------------+--------------------+\n",
            "|  0|      Helmond| Schoonhoven|waterwaterwaterwater|\n",
            "|  0|  Schoonhoven|     Zaandam|waterwaterwaterwater|\n",
            "|  1| Klazienaveen|   The Hague|                pens|\n",
            "|  1|       Nuenen|Klazienaveen|penspenspenspensp...|\n",
            "|  2|     Enschede|   Harlingen|    milkmilkmilkmilk|\n",
            "|  2|    Harlingen|      Venray|milkmilkmilkmilkm...|\n",
            "|  3|     De Meern|  Heerenveen|honeyhoneyhoneyho...|\n",
            "|  3|   Heerenveen|  Schaesberg|honeyhoneyhoneyho...|\n",
            "|  4|  Bloemendaal|     Rucphen|            milkmilk|\n",
            "|  4|      Rucphen|    Oostzaan|                milk|\n",
            "|  5|   Amersfoort|        Echt|                pens|\n",
            "|  5|        Ommen|  Amersfoort|                pens|\n",
            "|  6|       Dongen|        Leek|    milkmilkmilkmilk|\n",
            "|  6|     Reeuwijk|      Dongen|milkmilkmilkmilkmilk|\n",
            "|  7|    Rozenburg| Zwijndrecht|               honey|\n",
            "|  7|  Zwijndrecht|   Schijndel|honeyhoneyhoneyho...|\n",
            "|  8|     Enschede|     Dronten|                milk|\n",
            "|  8|         Made|    Enschede|        milkmilkmilk|\n",
            "|  9|Sint Anthonis|       Weert|tomatoestomatoest...|\n",
            "|  9|        Weert|  Sliedrecht|tomatoestomatoest...|\n",
            "+---+-------------+------------+--------------------+\n",
            "only showing top 20 rows\n",
            "\n"
          ]
        }
      ]
    },
    {
      "cell_type": "code",
      "source": [
        "import pandas as pd\n",
        "import json\n",
        "from pyspark.sql import SparkSession\n",
        "from pyspark.sql.functions import monotonically_increasing_id\n",
        "\n",
        "# Load data from JSON file\n",
        "with open('act_routes.json', 'r') as file:\n",
        "    data = json.load(file)\n",
        "\n",
        "# Initialize an empty DataFrame to store the processed data\n",
        "df = pd.DataFrame()\n",
        "\n",
        "# Dictionary to store the counter for each unique ID\n",
        "id_counter = {}\n",
        "\n",
        "# Iterate over each element\n",
        "for element in data:\n",
        "    id = element['id']\n",
        "\n",
        "    # Increment the counter for each unique ID\n",
        "    if id in id_counter:\n",
        "        id_counter[id] += 1\n",
        "    else:\n",
        "        id_counter[id] = 1\n",
        "\n",
        "    # Counter for each ID\n",
        "    counter = id_counter[id]\n",
        "\n",
        "    # Iterate over routes\n",
        "    for route in element['route']:\n",
        "        from_city = route['from']\n",
        "        to_city = route['to']\n",
        "\n",
        "        # Iterate over merchandise\n",
        "        for merchandise, quantity in route['merchandise'].items():\n",
        "            # Append data to DataFrame with modified ID\n",
        "            df = df.append({\n",
        "                'id': f\"{id}-{counter}\",  # Assign modified ID with counter\n",
        "                'original_id': id,  # Store original ID\n",
        "                'from': from_city,\n",
        "                'to': to_city,\n",
        "                'merchandise': merchandise,\n",
        "                'quantity': quantity\n",
        "            }, ignore_index=True)\n",
        "\n",
        "# Convert DataFrame to Spark DataFrame\n",
        "spark = SparkSession.builder.getOrCreate()\n",
        "ac_routes_df = spark.createDataFrame(df)\n",
        "\n",
        "# Assign sequential counts to duplicate IDs\n",
        "ac_routes_df = ac_routes_df.withColumn('new_id', monotonically_increasing_id())\n"
      ],
      "metadata": {
        "colab": {
          "base_uri": "https://localhost:8080/"
        },
        "id": "EpXKTrpdhTib",
        "outputId": "9cabd45d-367a-48b6-e6a9-028d245033c0"
      },
      "execution_count": 30,
      "outputs": [
        {
          "output_type": "stream",
          "name": "stdout",
          "text": [
            "+---+-----------+-----------+-----------+-----------+--------+------+\n",
            "| id|original_id|       from|         to|merchandise|quantity|new_id|\n",
            "+---+-----------+-----------+-----------+-----------+--------+------+\n",
            "|0-1|          0|Barendrecht|Schoonhoven|      honey|       3|     0|\n",
            "|0-1|          0|Barendrecht|Schoonhoven|   tomatoes|       5|     1|\n",
            "|0-1|          0|Barendrecht|Schoonhoven|     butter|       2|     2|\n",
            "|0-1|          0|Schoonhoven|    Zaandam|      apple|       4|     3|\n",
            "|0-1|          0|Schoonhoven|    Zaandam|       milk|       5|     4|\n",
            "|0-1|          0|Schoonhoven|    Zaandam|   tomatoes|       3|     5|\n",
            "|0-1|          0|Schoonhoven|    Zaandam|      water|       5|     6|\n",
            "|0-1|          0|Schoonhoven|    Zaandam|     butter|       4|     7|\n",
            "|0-2|          0|    Helmond|   Enschede|      water|       4|     8|\n",
            "|0-2|          0|    Helmond|   Enschede|     butter|       5|     9|\n",
            "|0-2|          0|    Helmond|   Enschede|      honey|       2|    10|\n",
            "|0-2|          0|   Enschede|    Zaandam|   tomatoes|       3|    11|\n",
            "|0-2|          0|   Enschede|    Zaandam|      honey|       2|    12|\n",
            "|0-2|          0|   Enschede|    Zaandam|       pens|       2|    13|\n",
            "|0-2|          0|   Enschede|    Zaandam|      apple|       5|    14|\n",
            "|0-2|          0|   Enschede|    Zaandam|      water|       5|    15|\n",
            "|0-3|          0|    Helmond|   Nootdorp|      water|       4|    16|\n",
            "|0-3|          0|    Helmond|   Nootdorp|       pens|       2|    17|\n",
            "|0-3|          0|    Helmond|   Nootdorp|       milk|       4|    18|\n",
            "|0-3|          0|    Helmond|   Nootdorp|     butter|       4|    19|\n",
            "+---+-----------+-----------+-----------+-----------+--------+------+\n",
            "only showing top 20 rows\n",
            "\n"
          ]
        }
      ]
    },
    {
      "cell_type": "code",
      "source": [
        "acr_df = ac_routes_df.withColumn('merchandise_quantity', expr(\"repeat(merchandise, quantity)\"))\n",
        "acr_df = acr_df.drop('merchandise', 'quantity', 'new_id')\n",
        "\n",
        "acr_df.show()\n"
      ],
      "metadata": {
        "colab": {
          "base_uri": "https://localhost:8080/"
        },
        "id": "5jcEdj7rKeBB",
        "outputId": "c89d7c18-f73d-4cfa-9ea7-3d0691011129"
      },
      "execution_count": 44,
      "outputs": [
        {
          "output_type": "stream",
          "name": "stdout",
          "text": [
            "+---+-----------+-----------+-----------+--------------------+\n",
            "| id|original_id|       from|         to|merchandise_quantity|\n",
            "+---+-----------+-----------+-----------+--------------------+\n",
            "|0-1|          0|Barendrecht|Schoonhoven|     honeyhoneyhoney|\n",
            "|0-1|          0|Barendrecht|Schoonhoven|tomatoestomatoest...|\n",
            "|0-1|          0|Barendrecht|Schoonhoven|        butterbutter|\n",
            "|0-1|          0|Schoonhoven|    Zaandam|appleappleappleapple|\n",
            "|0-1|          0|Schoonhoven|    Zaandam|milkmilkmilkmilkmilk|\n",
            "|0-1|          0|Schoonhoven|    Zaandam|tomatoestomatoest...|\n",
            "|0-1|          0|Schoonhoven|    Zaandam|waterwaterwaterwa...|\n",
            "|0-1|          0|Schoonhoven|    Zaandam|butterbutterbutte...|\n",
            "|0-2|          0|    Helmond|   Enschede|waterwaterwaterwater|\n",
            "|0-2|          0|    Helmond|   Enschede|butterbutterbutte...|\n",
            "|0-2|          0|    Helmond|   Enschede|          honeyhoney|\n",
            "|0-2|          0|   Enschede|    Zaandam|tomatoestomatoest...|\n",
            "|0-2|          0|   Enschede|    Zaandam|          honeyhoney|\n",
            "|0-2|          0|   Enschede|    Zaandam|            penspens|\n",
            "|0-2|          0|   Enschede|    Zaandam|appleappleappleap...|\n",
            "|0-2|          0|   Enschede|    Zaandam|waterwaterwaterwa...|\n",
            "|0-3|          0|    Helmond|   Nootdorp|waterwaterwaterwater|\n",
            "|0-3|          0|    Helmond|   Nootdorp|            penspens|\n",
            "|0-3|          0|    Helmond|   Nootdorp|    milkmilkmilkmilk|\n",
            "|0-3|          0|    Helmond|   Nootdorp|butterbutterbutte...|\n",
            "+---+-----------+-----------+-----------+--------------------+\n",
            "only showing top 20 rows\n",
            "\n"
          ]
        }
      ]
    },
    {
      "cell_type": "code",
      "source": [
        "# delete the duplicated routes\n",
        "acpaths = acr_df.dropDuplicates([\"id\", \"original_id\", \"from\", \"to\"])\n",
        "\n",
        "acpaths.show()"
      ],
      "metadata": {
        "colab": {
          "base_uri": "https://localhost:8080/"
        },
        "id": "j7ZxDm_V8GkW",
        "outputId": "eb3d683a-3ff7-4743-cad2-cfad4874872d"
      },
      "execution_count": 66,
      "outputs": [
        {
          "output_type": "stream",
          "name": "stdout",
          "text": [
            "+----+-----------+-----------+-----------+--------------------+\n",
            "|  id|original_id|       from|         to|merchandise_quantity|\n",
            "+----+-----------+-----------+-----------+--------------------+\n",
            "| 0-1|          0|Barendrecht|Schoonhoven|     honeyhoneyhoney|\n",
            "| 0-1|          0|Schoonhoven|    Zaandam|appleappleappleapple|\n",
            "|0-10|          0| Den Helder|Schoonhoven|          waterwater|\n",
            "|0-10|          0|Schoonhoven|    Zaandam|    penspenspenspens|\n",
            "| 0-2|          0|   Enschede|    Zaandam|tomatoestomatoest...|\n",
            "| 0-2|          0|    Helmond|   Enschede|waterwaterwaterwater|\n",
            "| 0-3|          0|    Helmond|   Nootdorp|waterwaterwaterwater|\n",
            "| 0-3|          0|   Nootdorp|    Zaandam|     waterwaterwater|\n",
            "| 0-4|          0|    Helmond|Schoonhoven|penspenspenspenspens|\n",
            "| 0-4|          0|Schoonhoven|    Zaandam|honeyhoneyhoneyho...|\n",
            "| 0-5|          0|    Helmond|Schoonhoven|tomatoestomatoest...|\n",
            "| 0-5|          0|Schoonhoven|    Zaandam|appleappleappleap...|\n",
            "| 0-6|          0| Amstelveen|    Zaandam|               apple|\n",
            "| 0-6|          0|    Helmond| Amstelveen|              butter|\n",
            "| 0-7|          0|    Helmond|Schoonhoven|tomatoestomatoest...|\n",
            "| 0-7|          0|Schoonhoven|    Zaandam|     appleappleapple|\n",
            "| 0-8|          0|     Bergen|    Zaandam|     appleappleapple|\n",
            "| 0-8|          0|    Helmond|     Bergen|    milkmilkmilkmilk|\n",
            "| 0-9|          0|    Helmond|Schoonhoven|     honeyhoneyhoney|\n",
            "| 0-9|          0|Schoonhoven|    Zaandam|        penspenspens|\n",
            "+----+-----------+-----------+-----------+--------------------+\n",
            "only showing top 20 rows\n",
            "\n"
          ]
        }
      ]
    },
    {
      "cell_type": "code",
      "source": [
        "from pyspark.sql.functions import udf\n",
        "from pyspark.sql.types import IntegerType\n",
        "from Levenshtein import distance\n",
        "\n",
        "def levenshtein_distance(s1, s2):\n",
        "    return distance(s1, s2)\n",
        "\n",
        "levenshtein_distance_udf = udf(levenshtein_distance, IntegerType())\n"
      ],
      "metadata": {
        "id": "B4TmnMW2BtIH"
      },
      "execution_count": 50,
      "outputs": []
    }
  ]
}